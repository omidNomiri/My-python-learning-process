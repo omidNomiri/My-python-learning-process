{
 "cells": [
  {
   "cell_type": "code",
   "execution_count": 24,
   "metadata": {},
   "outputs": [],
   "source": [
    "import cv2\n",
    "import numpy as np"
   ]
  },
  {
   "cell_type": "code",
   "execution_count": 25,
   "metadata": {},
   "outputs": [],
   "source": [
    "def calculate_color_distance(color1, color2):\n",
    "    return np.linalg.norm(color1 - color2)"
   ]
  },
  {
   "cell_type": "code",
   "execution_count": 26,
   "metadata": {},
   "outputs": [],
   "source": [
    "def identify_color(pixel_color):\n",
    "    colors = {\n",
    "        \"red\": np.array([0, 0, 255]),\n",
    "        \"green\": np.array([0, 255, 0]),\n",
    "        \"blue\": np.array([255, 0, 0]),\n",
    "        \"yellow\": np.array([0, 255, 255]),\n",
    "        \"orange\": np.array([0, 165, 255]),\n",
    "        \"purple\": np.array([128, 0, 128]),\n",
    "        \"white\": np.array([255, 255, 255]),\n",
    "        \"black\": np.array([0, 0, 0])\n",
    "    }\n",
    "\n",
    "    min_distance = float('inf')\n",
    "    identified_color = None\n",
    "\n",
    "    for color_name, color_value in colors.items():\n",
    "        distance = calculate_color_distance(pixel_color, color_value)\n",
    "        if distance < min_distance:\n",
    "            min_distance = distance\n",
    "            identified_color = color_name\n",
    "\n",
    "    return identified_color"
   ]
  },
  {
   "cell_type": "code",
   "execution_count": 27,
   "metadata": {},
   "outputs": [],
   "source": [
    "camera = cv2.VideoCapture(0)\n",
    "\n",
    "while True:\n",
    "    _, frame = camera.read()\n",
    "\n",
    "    resized_frame = cv2.resize(frame, (640, 480))\n",
    "    cv2.rectangle(resized_frame, (290, 210), (350, 270), (0, 255, 0), 2)\n",
    "\n",
    "    square_target = frame[210:270, 290:350]\n",
    "    pixel_color = np.median(square_target, axis=(0, 1))\n",
    "\n",
    "    identified_color = identify_color(pixel_color)\n",
    "\n",
    "    text_x, text_y = 280, 190\n",
    "\n",
    "    cv2.putText(resized_frame, f\"{identified_color}\", (text_x, text_y),\n",
    "                cv2.FONT_HERSHEY_SIMPLEX, 1, (100, 150, 255), 2)\n",
    "\n",
    "    cv2.imshow(\"\", resized_frame)\n",
    "\n",
    "    if cv2.waitKey(100) & 0xFF == ord(\"q\"):\n",
    "        break"
   ]
  }
 ],
 "metadata": {
  "kernelspec": {
   "display_name": "Python 3",
   "language": "python",
   "name": "python3"
  },
  "language_info": {
   "codemirror_mode": {
    "name": "ipython",
    "version": 3
   },
   "file_extension": ".py",
   "mimetype": "text/x-python",
   "name": "python",
   "nbconvert_exporter": "python",
   "pygments_lexer": "ipython3",
   "version": "3.11.7"
  }
 },
 "nbformat": 4,
 "nbformat_minor": 2
}
