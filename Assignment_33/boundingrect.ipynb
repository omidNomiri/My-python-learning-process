{
 "cells": [
  {
   "cell_type": "code",
   "execution_count": 3,
   "metadata": {},
   "outputs": [],
   "source": [
    "def bounding_rect(contour)-> tuple:\n",
    "    if not contour:\n",
    "        return None\n",
    "\n",
    "    min_x, min_y = float('inf'),float('inf')\n",
    "    max_x, max_y = float('-inf'),float('-inf')\n",
    "\n",
    "    for point in contour:\n",
    "        x, y = point[0]\n",
    "        \n",
    "        max_x = max(max_x, x)\n",
    "        max_y = max(max_y, y)\n",
    "        min_x = min(min_x, x)\n",
    "        min_y = min(min_y, y)\n",
    "\n",
    "        width = max_x - min_x\n",
    "        height = max_y - min_y\n",
    "\n",
    "    return min_x, min_y, width, height"
   ]
  },
  {
   "cell_type": "markdown",
   "metadata": {},
   "source": [
    "## Example usage"
   ]
  },
  {
   "cell_type": "code",
   "execution_count": 5,
   "metadata": {},
   "outputs": [
    {
     "name": "stdout",
     "output_type": "stream",
     "text": [
      "coordinate: x:0, y:0, w:274, h:182\n"
     ]
    }
   ],
   "source": [
    "contour = [[[0, 0]], [[0, 182]], [[274, 182]], [[274, 0]]]\n",
    "\n",
    "x, y, w, h = bounding_rect(contour)\n",
    "print(f\"coordinate: x:{x}, y:{y}, w:{w}, h:{h}\")"
   ]
  }
 ],
 "metadata": {
  "kernelspec": {
   "display_name": "Python 3",
   "language": "python",
   "name": "python3"
  },
  "language_info": {
   "codemirror_mode": {
    "name": "ipython",
    "version": 3
   },
   "file_extension": ".py",
   "mimetype": "text/x-python",
   "name": "python",
   "nbconvert_exporter": "python",
   "pygments_lexer": "ipython3",
   "version": "3.11.7"
  }
 },
 "nbformat": 4,
 "nbformat_minor": 2
}
