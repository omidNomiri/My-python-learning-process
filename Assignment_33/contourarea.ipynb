{
 "cells": [
  {
   "cell_type": "code",
   "execution_count": 33,
   "metadata": {},
   "outputs": [],
   "source": [
    "def contour_area(contour) -> int:\n",
    "    x_values = [point[0][0] for point in contour]\n",
    "    y_values = [point[0][1] for point in contour]\n",
    "\n",
    "    length = max(x_values) - min(x_values)\n",
    "    width = max(y_values) - min(y_values)\n",
    "\n",
    "    area = length * width\n",
    "\n",
    "    return area"
   ]
  },
  {
   "cell_type": "markdown",
   "metadata": {},
   "source": [
    "#### Example usage"
   ]
  },
  {
   "cell_type": "code",
   "execution_count": 34,
   "metadata": {},
   "outputs": [
    {
     "name": "stdout",
     "output_type": "stream",
     "text": [
      "Area: 49868\n"
     ]
    }
   ],
   "source": [
    "contour = [[[0, 0]], [[0, 182]], [[274, 182]], [[274, 0]]]\n",
    "\n",
    "area = contour_area(contour)\n",
    "print(\"Area:\", area)"
   ]
  }
 ],
 "metadata": {
  "kernelspec": {
   "display_name": "Python 3",
   "language": "python",
   "name": "python3"
  },
  "language_info": {
   "codemirror_mode": {
    "name": "ipython",
    "version": 3
   },
   "file_extension": ".py",
   "mimetype": "text/x-python",
   "name": "python",
   "nbconvert_exporter": "python",
   "pygments_lexer": "ipython3",
   "version": "3.11.7"
  }
 },
 "nbformat": 4,
 "nbformat_minor": 2
}
