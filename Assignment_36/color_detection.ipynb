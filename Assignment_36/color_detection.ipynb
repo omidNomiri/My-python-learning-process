{
 "cells": [
  {
   "cell_type": "code",
   "execution_count": 7,
   "metadata": {},
   "outputs": [],
   "source": [
    "import cv2\n",
    "import numpy as np"
   ]
  },
  {
   "cell_type": "code",
   "execution_count": 19,
   "metadata": {},
   "outputs": [],
   "source": [
    "def identify_color(image):\n",
    "    HSV_image = cv2.cvtColor(image, cv2.COLOR_BGR2HSV)\n",
    "    H, S, V = cv2.split(HSV_image)\n",
    "\n",
    "    hist_H = cv2.calcHist([H], [0], None, [180], [0, 180])\n",
    "    hist_S = cv2.calcHist([S], [0], None, [256], [0, 256])\n",
    "    hist_V = cv2.calcHist([V], [0], None, [256], [0, 256])\n",
    "\n",
    "    max_H = hist_H.argmax()\n",
    "    max_S = hist_S.argmax()\n",
    "    max_V = hist_V.argmax()\n",
    "\n",
    "    color = \"UNDEFINED\"\n",
    "\n",
    "    if max_S < 20:\n",
    "        color = \"WHITE\"\n",
    "    elif max_V < 20:\n",
    "        color = \"BLACK\"\n",
    "    else:\n",
    "        if 15 < max_H < 30:\n",
    "            color = \"ORANGE\"\n",
    "        elif 30 < max_H < 90:\n",
    "            color = \"GREEN\"\n",
    "        elif 90 < max_H < 150:\n",
    "            color = \"BLUE\"\n",
    "        elif 150 < max_H < 180:\n",
    "            color = \"PURPLE\"\n",
    "        elif 0 < max_H < 15:\n",
    "            color = \"RED\"\n",
    "\n",
    "    return color"
   ]
  },
  {
   "cell_type": "code",
   "execution_count": 21,
   "metadata": {},
   "outputs": [],
   "source": [
    "camera = cv2.VideoCapture(0)\n",
    "\n",
    "while True:\n",
    "    _, frame = camera.read()\n",
    "\n",
    "    resized_frame = cv2.resize(frame, (640, 480))\n",
    "    cv2.rectangle(resized_frame, (290, 210), (350, 270), (0, 255, 0), 2)\n",
    "\n",
    "    square_target = frame[210:270, 290:350]\n",
    "\n",
    "    identified_color = identify_color(square_target)\n",
    "\n",
    "    cv2.putText(resized_frame, f\"{identified_color}\", (280, 190),\n",
    "                cv2.FONT_HERSHEY_SIMPLEX, 1, (100, 150, 255), 2)\n",
    "\n",
    "    cv2.imshow(\"\", resized_frame)\n",
    "\n",
    "    if cv2.waitKey(100) & 0xFF == ord(\"q\"):\n",
    "        break"
   ]
  }
 ],
 "metadata": {
  "kernelspec": {
   "display_name": "Python 3",
   "language": "python",
   "name": "python3"
  },
  "language_info": {
   "codemirror_mode": {
    "name": "ipython",
    "version": 3
   },
   "file_extension": ".py",
   "mimetype": "text/x-python",
   "name": "python",
   "nbconvert_exporter": "python",
   "pygments_lexer": "ipython3",
   "version": "3.11.7"
  }
 },
 "nbformat": 4,
 "nbformat_minor": 2
}
